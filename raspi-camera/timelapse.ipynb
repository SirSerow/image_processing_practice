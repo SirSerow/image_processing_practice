{
 "cells": [
  {
   "cell_type": "markdown",
   "id": "ac7e2d99-10f5-4e90-b5cd-ef2412248937",
   "metadata": {},
   "source": [
    "# Timelapse excersise"
   ]
  },
  {
   "cell_type": "markdown",
   "id": "72faf245-339f-4c93-997b-5376b2dc0006",
   "metadata": {},
   "source": [
    "In this excersise we will use Python and Raspberry Pi camera to record a timelapse and output a gif file"
   ]
  },
  {
   "cell_type": "markdown",
   "id": "f18cbe13-9431-4dc5-8ecf-701ffe965d30",
   "metadata": {},
   "source": [
    "## Capturing an image"
   ]
  },
  {
   "cell_type": "markdown",
   "id": "70326e1f-0cf3-4dbd-819e-92cdb36c5d7e",
   "metadata": {},
   "source": [
    "Image cupturing will be performed with a simple call to pycamera2 library."
   ]
  },
  {
   "cell_type": "code",
   "execution_count": null,
   "id": "7a12bfe8-bcc0-4a37-83e9-b5dc004d4cb9",
   "metadata": {},
   "outputs": [],
   "source": [
    "import time\n",
    "from picamera2 import Picamera2, Preview  # Fixed import\n",
    "from IPython.display import Image, display\n",
    "import os\n",
    "from datetime import datetime\n",
    "\n",
    "def initialize_camera():\n",
    "    \"\"\"\n",
    "    Initialize the PiCamera instance.\n",
    "    PiCamera インスタンスを初期化します。\n",
    "    \"\"\"\n",
    "    picam2 = Picamera2()\n",
    "    config = picam2.create_preview_configuration()\n",
    "    picam2.configure(config)\n",
    "    return picam2\n",
    "\n",
    "\n",
    "def capture_image(camera, directory, filename):\n",
    "    \"\"\"\n",
    "    Capture an image and save it to the specified directory with the given filename.\n",
    "    画像を撮影し、指定されたディレクトリに指定されたファイル名で保存します。\n",
    "    \"\"\"\n",
    "    if not os.path.exists(directory):\n",
    "        os.makedirs(\n",
    "            directory\n",
    "        )  # Create the directory if it doesn't exist. ディレクトリが存在しない場合は作成します。\n",
    "\n",
    "    filepath = os.path.join(directory, filename)\n",
    "    camera.start_preview(\n",
    "        Preview.NULL\n",
    "    )  # Specify preview type. プレビュータイプを指定します。\n",
    "    camera.start()  # Start the camera. カメラを起動します。\n",
    "    time.sleep(\n",
    "        0.1\n",
    "    )  # Allow the camera to adjust to lighting conditions. カメラが照明条件に適応するために2秒待ちます。\n",
    "    camera.capture_file(filepath)\n",
    "    print(f\"Image saved to {filepath}\")  # 画像が保存されたことを通知します。\n",
    "    display(Image(filename=filepath))\n",
    "    # Return filepath\n",
    "    return filepath\n"
   ]
  },
  {
   "cell_type": "markdown",
   "id": "9b3b62ce-f3c4-47d7-b9de-d5396e8dcc05",
   "metadata": {},
   "source": [
    "**take_timelapse_image()** function is responsible for taking images and saving them into specific folder "
   ]
  },
  {
   "cell_type": "code",
   "execution_count": null,
   "id": "4fc7c824-6935-4709-a220-2965dbc56ca7",
   "metadata": {},
   "outputs": [],
   "source": [
    "def take_timelapse_image(folder_name):\n",
    "    # Get current time\n",
    "    current_time = datetime.now().time()\n",
    "    # Format the time with underscores as spacers\n",
    "    formatted_time = current_time.strftime(\"%H_%M_%S\")\n",
    "    print(formatted_time)\n",
    "    camera = initialize_camera()\n",
    "    try:\n",
    "        capture_image(camera, folder_name, f\"{formatted_time}_timelapse.jpg\")\n",
    "    finally:\n",
    "        camera.stop()  # Ensure the camera is properly closed. カメラが適切に閉じられるようにします。\n",
    "        camera.stop_preview()  # Stop the preview. プレビューを停止します。\n",
    "        camera.close()"
   ]
  },
  {
   "cell_type": "markdown",
   "id": "c5967a96-cdad-4ab9-9514-2031769dda71",
   "metadata": {},
   "source": [
    "## Setting up a periodic image taking function"
   ]
  },
  {
   "cell_type": "markdown",
   "id": "e849de2d-832f-4f9f-bb5f-60d114adba51",
   "metadata": {},
   "source": [
    "Following function takes in the time period for how long the photos should be taken and time space between taking shots"
   ]
  },
  {
   "cell_type": "code",
   "execution_count": null,
   "id": "2db9fa71-f78c-4e6a-a692-c4ca48cb7984",
   "metadata": {},
   "outputs": [],
   "source": [
    "def calculate_frame_count(length_mins, frame_time_sec):\n",
    "    frame_time_min = frame_time_sec / 60\n",
    "    amount_of_frames = length_mins / frame_time_min\n",
    "    return amount_of_frames\n",
    "\n",
    "def take_timelapse(length_mins, frame_time_sec, folder_name):\n",
    "    frame_count = calculate_frame_count(length_mins, frame_time_sec)\n",
    "    total_duration = frame_time_sec * frame_count\n",
    "    print(f\"The timelapse will take {frame_count} shots over {total_duration/60} minutes\")\n",
    "    for i in range(int(frame_count)):\n",
    "        take_timelapse_image(folder_name)\n",
    "        progress = i/frame_count * 100\n",
    "        print(f\"Taking timelapse.... Current progress: {progress}\") \n",
    "        time.sleep(frame_time_sec)"
   ]
  },
  {
   "cell_type": "markdown",
   "id": "1a437357-d877-4e74-9e84-a16145eae32e",
   "metadata": {},
   "source": [
    "## Compiling all the taken pictures into a single timelapse"
   ]
  },
  {
   "cell_type": "markdown",
   "id": "2e2ef1db-fa0d-4d87-a2ab-21032cb40238",
   "metadata": {},
   "source": [
    "To simplify the timelapse creation process we will use Python [Pillow](https://pillow.readthedocs.io/en/stable/index.html) library"
   ]
  },
  {
   "cell_type": "code",
   "execution_count": null,
   "id": "5cbc6b2b-cae7-45f1-b5d0-66fc6a0f4cfd",
   "metadata": {},
   "outputs": [],
   "source": [
    "from PIL import Image as PilImage\n",
    "import os\n",
    "\n",
    "def create_timelapse_gif(image_folder, output_gif_path, duration=0.01):\n",
    "    # Get all image files from the folder\n",
    "    print(\"Compiling timelapse GIF\")\n",
    "    images = []\n",
    "    for filename in sorted(os.listdir(image_folder)):\n",
    "        if filename.endswith(('.png', '.jpg', '.jpeg')):\n",
    "            img_path = os.path.join(image_folder, filename)\n",
    "            images.append(PilImage.open(img_path))\n",
    "\n",
    "    # Check if we have images to work with\n",
    "    if not images:\n",
    "        print(\"No valid image files found in the specified directory.\")\n",
    "\n",
    "    # Save images as a GIF\n",
    "    images[0].save(\n",
    "        output_gif_path,\n",
    "        save_all=True,\n",
    "        append_images=images[1:],\n",
    "        duration=duration * 1000,  # convert to milliseconds\n",
    "        loop=0  # loop indefinitely\n",
    "    )\n",
    "\n",
    "    print(\"Timelapse GIF created\")"
   ]
  },
  {
   "cell_type": "markdown",
   "id": "88bb882f-2516-4fc1-b459-79c37d0cf720",
   "metadata": {},
   "source": [
    "## Displaying the result"
   ]
  },
  {
   "cell_type": "code",
   "execution_count": null,
   "id": "06e63ab5-a9ab-4025-808d-4869917190ec",
   "metadata": {},
   "outputs": [],
   "source": [
    "from IPython.display import Image\n",
    "def display_gif(gif_path):\n",
    "    \"\"\"\n",
    "    Display a GIF in a Jupyter notebook.\n",
    "    Parameters:\n",
    "    gif_path (str): The file path to the GIF you want to display.\n",
    "    \"\"\"\n",
    "    return Image(filename=gif_path)"
   ]
  },
  {
   "cell_type": "markdown",
   "id": "77176ea1-b1f1-4f1e-9857-b1b20ba86c6e",
   "metadata": {},
   "source": [
    "## Putting everything together"
   ]
  },
  {
   "cell_type": "code",
   "execution_count": null,
   "id": "83ed564a-5c95-4693-966a-cb36cf388600",
   "metadata": {},
   "outputs": [],
   "source": [
    "TIMELAPSE_LENGTH_MINS = 10\n",
    "TIMELAPSE_FRAME_TIME_SEC = 2\n",
    "TIMELAPSE_FOLDER_NAME = \"test2\"\n",
    "OUTPUT_GIF_PATH = f\"{TIMELAPSE_FOLDER_NAME}.gif\"\n",
    "OUTPUT_GIF_DURATION = 0.005\n",
    "\n",
    "take_timelapse(TIMELAPSE_LENGTH_MINS, TIMELAPSE_FRAME_TIME_SEC, TIMELAPSE_FOLDER_NAME)\n",
    "create_timelapse_gif(TIMELAPSE_FOLDER_NAME, OUTPUT_GIF_PATH, OUTPUT_GIF_DURATION)\n",
    "display_gif(OUTPUT_GIF_PATH)"
   ]
  }
 ],
 "metadata": {
  "kernelspec": {
   "display_name": "Python 3 (ipykernel)",
   "language": "python",
   "name": "python3"
  },
  "language_info": {
   "codemirror_mode": {
    "name": "ipython",
    "version": 3
   },
   "file_extension": ".py",
   "mimetype": "text/x-python",
   "name": "python",
   "nbconvert_exporter": "python",
   "pygments_lexer": "ipython3",
   "version": "3.11.2"
  }
 },
 "nbformat": 4,
 "nbformat_minor": 5
}
