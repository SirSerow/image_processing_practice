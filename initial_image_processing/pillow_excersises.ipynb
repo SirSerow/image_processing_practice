{
 "cells": [
  {
   "cell_type": "markdown",
   "id": "5a1f0cd0-afc4-416e-b811-c67f03b5bb6c",
   "metadata": {},
   "source": [
    "# Pillow image processing excersises / 枕の画像処理演習\n",
    "\n",
    "---\n",
    "\n",
    "### Image Resizing Tool / 画像リサイズツール\n",
    "\n",
    "**Objective / 目的**: Create a function that resizes an image to a specified width and height. / 画像を指定した幅と高さにリサイズする関数を作成する。\n",
    "\n",
    "**Description / 説明**: Resizing images is a common task in web development and graphic design, allowing images to fit specific dimensions or reduce file sizes for optimization. / 画像のリサイズは、ウェブ開発やグラフィックデザインでは一般的な作業で、画像を特定の寸法に合わせたり、最適化のためにファイルサイズを小さくしたりします。\n",
    "\n",
    "---\n",
    "\n",
    "### Image Rotation Application / 画像回転アプリケーション\n",
    "\n",
    "**Objective / 目的**: Develop a script that rotates an image by a given angle. / 画像を指定された角度だけ回転させるスクリプトを開発する。\n",
    "\n",
    "**Description / 説明**: Rotating images is useful in photo editing applications to correct orientation or create artistic effects. / 画像の回転は、写真編集アプリケーションで向きを修正したり、芸術的な効果を作成するのに便利です。\n",
    "\n",
    "---\n",
    "\n",
    "### Grayscale Converter / グレースケール・コンバーター\n",
    "\n",
    "**Objective / 目的**: Write a program that converts a color image to grayscale. / カラー画像をグレースケールに変換するプログラムを書きなさい。\n",
    "\n",
    "**Description / 説明**: Converting images to grayscale is often used in image processing to simplify analysis by reducing color complexity. / 画像をグレースケールに変換することは、色の複雑さを減らして分析を単純化するために、画像処理でよく使われる。\n",
    "\n",
    "---\n",
    "\n",
    "### Image Cropping Utility / 画像切り抜きユーティリティ\n",
    "\n",
    "**Objective / 目的**: Implement a function that crops a specified region from an image. / 画像から指定した領域を切り抜く関数を実装する。\n",
    "\n",
    "**Description / 説明**: Cropping is essential in photo editing to focus on specific areas or remove unwanted sections of an image. / トリミングは、特定の領域に焦点を当てたり、画像の不要な部分を削除するために、写真編集に不可欠です。\n",
    "\n",
    "---\n",
    "\n",
    "### Thumbnail Generator / サムネイルジェネレーター\n",
    "\n",
    "**Objective / 目的**: Create a script that generates thumbnails for a batch of images in a directory. / ディレクトリ内の画像のサムネイルを一括生成するスクリプトを作成する。\n",
    "\n",
    "**Description / 説明**: Generating thumbnails is useful for creating previews in galleries or reducing load times on websites. / サムネイルの生成は、ギャラリーでプレビューを作成したり、ウェブサイトのロード時間を短縮したりするのに便利です。\n",
    "\n",
    "---\n",
    "\n",
    "### Watermark Application / 透かしアプリケーション\n",
    "\n",
    "**Objective / 目的**: Develop a program that adds a semi-transparent watermark to an image. / 画像に半透明の透かしを入れるプログラムを開発する。\n",
    "\n",
    "**Description / 説明**: Watermarking images is commonly used to protect intellectual property and brand images in digital media. / 電子透かしは、デジタルメディアにおける知的財産やブランドイメージを保護するために一般的に使用されている。\n",
    "\n",
    "---\n",
    "\n",
    "### Image Blending Tool / 画像ブレンドツール\n",
    "\n",
    "**Objective / 目的**: Write a function that blends two images together with a specified transparency level. / 指定した透明度で2つの画像をブレンドする関数を書いてください。\n",
    "\n",
    "**Description / 説明**: Blending images is used in graphic design to create composite images or achieve specific visual effects. / 画像のブレンドは、合成画像を作成したり、特定の視覚効果を達成するためにグラフィックデザインで使用されます。\n",
    "\n",
    "---\n",
    "\n",
    "### Color Inversion Filter / カラー反転フィルター\n",
    "\n",
    "**Objective / 目的**: Create a script that inverts the colors of an image. / 画像の色を反転させるスクリプトを作成する。\n",
    "\n",
    "**Description / 説明**: Inverting colors can be used for artistic effects or to enhance visibility in certain applications. / 色を反転させることで、芸術的な効果を得たり、特定の用途で視認性を高めたりすることができる。\n",
    "\n",
    "---\n",
    "\n",
    "### Image Border Addition / イメージ・ボーダーの追加\n",
    "\n",
    "**Objective / 目的**: Implement a function that adds a border of specified thickness and color to an image. / 指定した太さと色のボーダーを画像に追加する関数を実装する。\n",
    "\n",
    "**Description / 説明**: Adding borders is often used in photo framing and to distinguish images from surrounding content in layouts. / ボーダーを追加することは、写真のフレーミングや、レイアウトで画像を周囲のコンテンツと区別するためによく使われます。\n",
    "\n",
    "---\n",
    "\n",
    "### Image Format Converter / 画像フォーマット変換\n",
    "\n",
    "**Objective / 目的**: Develop a program that converts images from one format to another (e.g., JPEG to PNG). / 画像をあるフォーマットから別のフォーマットに変換するプログラムを開発する（例：JPEGからPNG）。\n",
    "\n",
    "**Description / 説明**: Converting image formats is necessary for compatibility across different platforms and applications. / 画像フォーマットの変換は、異なるプラットフォームやアプリケーション間で互換性を保つために必要です。\n",
    "\n",
    "---\n",
    "\n",
    "### Optical Character Recognition (OCR) Preprocessing / 光学式文字認識（OCR）の前処理\n",
    "\n",
    "**Objective / 目的**: Prepare images of text for OCR by applying preprocessing techniques such as noise reduction, binarization, and deskewing. / ノイズ除去、二値化、傾き補正などの前処理技術を適用して、OCR用のテキスト画像を準備する。\n",
    "\n",
    "**Description / 説明**: Preprocessing images enhances the accuracy of OCR systems, which are used to convert different types of documents into editable and searchable data. / 画像を前処理することで、OCRシステムの精度が向上する。OCRシステムは、さまざまな種類の文書を編集・検索可能なデータに変換するために使用される。\n",
    "\n",
    "---\n",
    "\n",
    "### Image Histogram Equalization / 画像ヒストグラム均等化\n",
    "\n",
    "**Objective / 目的**: Implement histogram equalization to enhance the contrast of an image. / 画像のコントラストを強調するためにヒストグラム等化を実行する。\n",
    "\n",
    "**Description / 説明**: Histogram equalization is a technique in image processing used to improve contrast in images, making features more distinguishable. / ヒストグラム等化は、画像のコントラストを改善し、特徴をより識別しやすくするために使用される画像処理の技術である。\n",
    "\n",
    "---\n"
   ]
  },
  {
   "cell_type": "markdown",
   "id": "f8222200-55bf-4de1-a56f-991600eb8b4e",
   "metadata": {},
   "source": [
    "## Step 1 : Capture an image with Raspberry Pi camera"
   ]
  },
  {
   "cell_type": "code",
   "execution_count": null,
   "id": "5d42cc93-a8d2-4cc0-9cfd-f2eddf769783",
   "metadata": {},
   "outputs": [],
   "source": [
    "import time\n",
    "from picamera2 import Picamera2, Preview  # Fixed import\n",
    "from IPython.display import Image, display\n",
    "import os\n",
    "\n",
    "def initialize_camera():\n",
    "    \"\"\"\n",
    "    Initialize the PiCamera instance.\n",
    "    PiCamera インスタンスを初期化します。\n",
    "    \"\"\"\n",
    "    picam2 = Picamera2()\n",
    "    config = picam2.create_preview_configuration()\n",
    "    picam2.configure(config)\n",
    "    return picam2\n",
    "\n",
    "\n",
    "def capture_image(camera, directory, filename):\n",
    "    \"\"\"\n",
    "    Capture an image and save it to the specified directory with the given filename.\n",
    "    画像を撮影し、指定されたディレクトリに指定されたファイル名で保存します。\n",
    "\n",
    "    Parameters:\n",
    "    camera (PiCamera): The initialized PiCamera object. 初期化された PiCamera オブジェクト。\n",
    "    directory (str): The directory where the image will be saved. 画像を保存するディレクトリ。\n",
    "    filename (str): The name of the file to save the image as. 画像を保存するファイル名。\n",
    "    \"\"\"\n",
    "    if not os.path.exists(directory):\n",
    "        os.makedirs(\n",
    "            directory\n",
    "        )  # Create the directory if it doesn't exist. ディレクトリが存在しない場合は作成します。\n",
    "\n",
    "    filepath = os.path.join(directory, filename)\n",
    "    camera.start_preview(\n",
    "        Preview.NULL\n",
    "    )  # Specify preview type. プレビュータイプを指定します。\n",
    "    camera.start()  # Start the camera. カメラを起動します。\n",
    "    time.sleep(\n",
    "        2\n",
    "    )  # Allow the camera to adjust to lighting conditions. カメラが照明条件に適応するために2秒待ちます。\n",
    "    camera.capture_file(filepath)\n",
    "    print(f\"Image saved to {filepath}\")  # 画像が保存されたことを通知します。\n",
    "    display(Image(filename=filepath))\n",
    "\n",
    "\n",
    "def run_picture_sequence():\n",
    "    \"\"\"\n",
    "    Main function to initialize the camera and capture an image.\n",
    "    カメラを初期化し、画像を撮影するメイン関数。\n",
    "    \"\"\"\n",
    "    camera = initialize_camera()\n",
    "    try:\n",
    "        capture_image(camera, \"pictures\", \"image.jpg\")\n",
    "    finally:\n",
    "        camera.stop()  # Ensure the camera is properly closed. カメラが適切に閉じられるようにします。\n",
    "        camera.stop_preview()  # Stop the preview. プレビューを停止します。\n",
    "        camera.close()\n",
    "\n",
    "\n",
    "run_picture_sequence()"
   ]
  },
  {
   "cell_type": "markdown",
   "id": "2d75918e-e453-42d0-8c7f-a353200ee93b",
   "metadata": {},
   "source": [
    "## Step 2 : Open image with PIL library"
   ]
  },
  {
   "cell_type": "code",
   "execution_count": null,
   "id": "458d3555-c03e-4546-9882-141bf7dbc6df",
   "metadata": {},
   "outputs": [],
   "source": [
    "from PIL import Image as PilImage # Import image module from PIL library / PILライブラリから画像モジュールをインポート\n",
    "\n",
    "def load_image():\n",
    "    initial_image_path = \"pictures/image.jpg\"\n",
    "    processed_image_path = \"pictures/example.jpg\"\n",
    "    \n",
    "    tested_image = PilImage.open(initial_image_path)\n",
    "    \n",
    "    tested_image.save(processed_image_path)\n",
    "\n",
    "    return tested_image\n",
    "\n",
    "image = load_image()"
   ]
  },
  {
   "cell_type": "markdown",
   "id": "7985a1a4-582d-4582-ad2c-9ee44a2dfeeb",
   "metadata": {},
   "source": [
    "## Step 3 : Save image and display it"
   ]
  },
  {
   "cell_type": "code",
   "execution_count": null,
   "id": "5c09613d-3712-4d1e-a17f-bbc48b3bdf66",
   "metadata": {},
   "outputs": [],
   "source": [
    "from pathlib import Path\n",
    "\n",
    "def save_and_display(image, filename):\n",
    "    # Create output directory if it does not exist yet\n",
    "    Path(\"./output\").mkdir(parents=True, exist_ok=True)\n",
    "    output_file_path = Path('.') / \"output\" / filename\n",
    "    # Convert the image to RGB mode\n",
    "    rgb_image = image.convert('RGB')\n",
    "     # Save the image\n",
    "    rgb_image.save(output_file_path)\n",
    "    # Display the image\n",
    "    display(Image(filename=output_file_path))\n",
    "\n",
    "save_and_display(image, \"test.png\")\n",
    "    \n",
    "    \n",
    "    "
   ]
  },
  {
   "cell_type": "markdown",
   "id": "554ee414-516d-4a9d-b19e-17257ae2a5a8",
   "metadata": {},
   "source": [
    "## Step 4: Prepare image processing functions"
   ]
  },
  {
   "cell_type": "markdown",
   "id": "6d24ff63-9045-4c4b-a336-33fa9501978d",
   "metadata": {},
   "source": [
    "### 4.1 Image Resizing Tool / 画像リサイズツール"
   ]
  },
  {
   "cell_type": "code",
   "execution_count": null,
   "id": "890fa1cf-3ab7-4a2e-b167-ab1c5c651c50",
   "metadata": {},
   "outputs": [],
   "source": [
    "def resize_image(image, width, height):\n",
    "\n",
    "        ### Put your code here ###\n",
    "\n",
    "    # resized_image = \n",
    "    # save_and_display(resized_image, \"resized_image.png\")\n",
    "\n",
    "    pass"
   ]
  },
  {
   "cell_type": "markdown",
   "id": "2ccfc8de-eb84-4479-85eb-050423c57f74",
   "metadata": {},
   "source": [
    "### 4.2 Image Rotation Application / 画像回転アプリケーション"
   ]
  },
  {
   "cell_type": "code",
   "execution_count": null,
   "id": "df3c5811-ea30-4871-90db-4c5164684f62",
   "metadata": {},
   "outputs": [],
   "source": [
    "def rotate_image(image, rotation_angle):\n",
    "\n",
    "        ### Put your code here ###\n",
    "\n",
    "    # rotated_image = \n",
    "    # save_and_display(rotated_image, \"rotated_image.png\")\n",
    "\n",
    "    pass"
   ]
  },
  {
   "cell_type": "markdown",
   "id": "b4760bad-d9cc-4991-9baa-09b2fd57f133",
   "metadata": {},
   "source": [
    "### 4.3 Grayscale Converter / グレースケール・コンバーター"
   ]
  },
  {
   "cell_type": "code",
   "execution_count": null,
   "id": "5c768e4b-aa52-4de6-b710-8c9b50813159",
   "metadata": {},
   "outputs": [],
   "source": [
    "def convert_to_grayscale(image):\n",
    "\n",
    "        ### Put your code here ###\n",
    "\n",
    "    # grey_image = \n",
    "    # save_and_display(grey_image, \"grey_image.png\")\n",
    "\n",
    "    pass"
   ]
  },
  {
   "cell_type": "markdown",
   "id": "6686f114-6f8f-4465-a273-416973062f5d",
   "metadata": {},
   "source": [
    "### 4.4 Image Cropping Utility / 画像切り抜きユーティリティ"
   ]
  },
  {
   "cell_type": "code",
   "execution_count": null,
   "id": "ae18c0b6-e363-4ae3-aba0-a2b532df335e",
   "metadata": {},
   "outputs": [],
   "source": [
    "def crop_image(image, left, upper, right, lower):\n",
    "\n",
    "        ### Put your code here ###\n",
    "\n",
    "    # cropped_image = \n",
    "    # save_and_display(cropped_image, \"cropped_image.png\")\n",
    "\n",
    "    pass"
   ]
  },
  {
   "cell_type": "markdown",
   "id": "2b1dcc5e-df01-4424-bf67-74e7110fd15b",
   "metadata": {},
   "source": [
    "### 4.5 Thumbnail Generator / サムネイルジェネレーター"
   ]
  },
  {
   "cell_type": "code",
   "execution_count": null,
   "id": "1064b351-a8d8-4599-9cde-4ccb0ce63160",
   "metadata": {},
   "outputs": [],
   "source": [
    "def thumbnail():\n",
    "    # Unite all photos in output folder (gallery) into a single picture\n",
    "    gallery_path = Path('.') / \"output\" \n",
    "\n",
    "        ### Put your code here ###\n",
    "\n",
    "    # thumbnail = \n",
    "    # save_and_display(thumbnail, \"thumbnail.png\")\n",
    "\n",
    "    pass"
   ]
  },
  {
   "cell_type": "markdown",
   "id": "9d088383-00d8-4674-8f14-3fb55df01363",
   "metadata": {},
   "source": [
    "### 4.6 Watermark Application / 透かしアプリケーション"
   ]
  },
  {
   "cell_type": "code",
   "execution_count": null,
   "id": "99c166cc-9381-446d-961c-01dd4e97634c",
   "metadata": {},
   "outputs": [],
   "source": [
    "def watermak_image(image):\n",
    "    # Use python logo for watermarking or text in the edge of the image\n",
    "    watermark_path = Path('.') / \"pictures\" / \"python_logo.png\"\n",
    "\n",
    "        ### Put your code here ###\n",
    "\n",
    "    # watermarked_image = \n",
    "    # save_and_display(watermarked_image, \"watermarked_image.png\")\n",
    "\n",
    "    pass"
   ]
  },
  {
   "cell_type": "markdown",
   "id": "1a72e87d-cc4a-4240-9bd4-4b4992dca8cd",
   "metadata": {},
   "source": [
    "### 4.7 Image Blending Tool / 画像ブレンドツール"
   ]
  },
  {
   "cell_type": "code",
   "execution_count": null,
   "id": "2e23f571-f424-4ab7-a4fa-7b7320be595a",
   "metadata": {},
   "outputs": [],
   "source": [
    "def watermak_image(image1, image2):\n",
    "\n",
    "        ### Put your code here ###\n",
    "\n",
    "    # blended_image = \n",
    "    # save_and_display(blended_image, \"blended_image.png\")\n",
    "\n",
    "    pass"
   ]
  },
  {
   "cell_type": "markdown",
   "id": "4bdbde47-85bc-47bc-8008-ced97accbbaa",
   "metadata": {},
   "source": [
    "### 4.8 Color Inversion Filter / カラー反転フィルター"
   ]
  },
  {
   "cell_type": "code",
   "execution_count": null,
   "id": "e619e7f8-125f-4486-a05d-be8eb8d402de",
   "metadata": {},
   "outputs": [],
   "source": [
    "def invert_image_colors(image):\n",
    "\n",
    "        ### Put your code here ###\n",
    "    \n",
    "    # inverted_image = \n",
    "    # save_and_display(inverted_image, \"inverted_image.png\")\n",
    "\n",
    "    pass"
   ]
  },
  {
   "cell_type": "markdown",
   "id": "ba7020e7-f7b6-43fd-8173-3e7b7ca212a9",
   "metadata": {},
   "source": [
    "### 4.9 Image Border Addition / イメージ・ボーダーの追加"
   ]
  },
  {
   "cell_type": "code",
   "execution_count": null,
   "id": "ba9e5b00-7e80-499a-a979-44bf0cfd9086",
   "metadata": {},
   "outputs": [],
   "source": [
    "def add_image_border(image):\n",
    "\n",
    "        ### Put your code here ###\n",
    "    \n",
    "    # bordered_image = \n",
    "    # save_and_display(bordered_image, \"bordered_image.png\")\n",
    "\n",
    "    pass"
   ]
  },
  {
   "cell_type": "markdown",
   "id": "9700ab2a-be2b-4831-bd6f-f4a84ae6b707",
   "metadata": {},
   "source": [
    "### 4.10 Image Format Converter / 画像フォーマット変換"
   ]
  },
  {
   "cell_type": "code",
   "execution_count": null,
   "id": "8b579f08-b886-41f3-9e1f-4f19908de734",
   "metadata": {},
   "outputs": [],
   "source": [
    "def convert_image_format(input_path, output_path):\n",
    "\n",
    "        ### Put your code here ###\n",
    "    \n",
    "    # List files in output directory to confirm different formats\n",
    "\n",
    "    pass"
   ]
  },
  {
   "cell_type": "markdown",
   "id": "25093329-18df-4e67-9366-c632fb22c5ab",
   "metadata": {},
   "source": [
    "### 4.11 Optical Character Recognition (OCR) Preprocessing / 光学式文字認識（OCR）の前処理"
   ]
  },
  {
   "cell_type": "code",
   "execution_count": null,
   "id": "b7a93646-c96c-4223-b862-e5c536475d10",
   "metadata": {},
   "outputs": [],
   "source": [
    "def preprocess_image(image):\n",
    "\n",
    "        ### Put your code here ###\n",
    "    \n",
    "    # preprocessed_image = \n",
    "    # save_and_display(preprocessed_image, \"preprocessed_image.png\")\n",
    "\n",
    "    pass    "
   ]
  },
  {
   "cell_type": "markdown",
   "id": "dbec6c0f-c8fe-4016-bfe7-a635051a56c4",
   "metadata": {},
   "source": [
    "### 4.12 Image Histogram Equalization / 画像ヒストグラム均等化"
   ]
  },
  {
   "cell_type": "code",
   "execution_count": null,
   "id": "8a9871b6-ecb7-4531-813e-d1a33dbd5d9c",
   "metadata": {},
   "outputs": [],
   "source": [
    "def equalize_histogram(image):\n",
    "\n",
    "        ### Put your code here ###\n",
    "    \n",
    "    # equalized_image = \n",
    "    # save_and_display(equalized_image, \"equalized_image.png\")\n",
    "\n",
    "    pass    "
   ]
  }
 ],
 "metadata": {
  "kernelspec": {
   "display_name": "Python 3 (ipykernel)",
   "language": "python",
   "name": "python3"
  },
  "language_info": {
   "codemirror_mode": {
    "name": "ipython",
    "version": 3
   },
   "file_extension": ".py",
   "mimetype": "text/x-python",
   "name": "python",
   "nbconvert_exporter": "python",
   "pygments_lexer": "ipython3",
   "version": "3.11.2"
  }
 },
 "nbformat": 4,
 "nbformat_minor": 5
}
