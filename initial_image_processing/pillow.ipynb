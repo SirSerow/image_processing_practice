{
 "cells": [
  {
   "cell_type": "markdown",
   "id": "d4eb3bf9-c751-421a-a9fc-79b6397cb74d",
   "metadata": {},
   "source": [
    "# Simple image processing on Raspberry Pi with Python / RaspberryPiでPythonを使った簡単な画像処理"
   ]
  },
  {
   "cell_type": "markdown",
   "id": "900c0df6-bc35-4199-9c74-02d4f4ffb930",
   "metadata": {},
   "source": [
    "## Taking a picture with a camera / カメラで写真を撮る"
   ]
  },
  {
   "cell_type": "markdown",
   "id": "8c39ef4e-7327-4afd-a437-8ce050b9c039",
   "metadata": {},
   "source": [
    "First, let`s check if camera is working correctly and take an picture / まず、カメラが正しく動作しているかどうかを確認し、写真を撮ってみましょう。"
   ]
  },
  {
   "cell_type": "code",
   "execution_count": null,
   "id": "05a08a6b-c53a-4087-8b91-124a52f29f27",
   "metadata": {},
   "outputs": [],
   "source": [
    "import time\n",
    "from picamera2 import Picamera2, Preview  # Fixed import\n",
    "from IPython.display import Image, display\n",
    "import os\n",
    "\n",
    "def initialize_camera():\n",
    "    \"\"\"\n",
    "    Initialize the PiCamera instance.\n",
    "    PiCamera インスタンスを初期化します。\n",
    "    \"\"\"\n",
    "    picam2 = Picamera2()\n",
    "    config = picam2.create_preview_configuration()\n",
    "    picam2.configure(config)\n",
    "    return picam2\n",
    "\n",
    "\n",
    "def capture_image(camera, directory, filename):\n",
    "    \"\"\"\n",
    "    Capture an image and save it to the specified directory with the given filename.\n",
    "    画像を撮影し、指定されたディレクトリに指定されたファイル名で保存します。\n",
    "\n",
    "    Parameters:\n",
    "    camera (PiCamera): The initialized PiCamera object. 初期化された PiCamera オブジェクト。\n",
    "    directory (str): The directory where the image will be saved. 画像を保存するディレクトリ。\n",
    "    filename (str): The name of the file to save the image as. 画像を保存するファイル名。\n",
    "    \"\"\"\n",
    "    if not os.path.exists(directory):\n",
    "        os.makedirs(\n",
    "            directory\n",
    "        )  # Create the directory if it doesn't exist. ディレクトリが存在しない場合は作成します。\n",
    "\n",
    "    filepath = os.path.join(directory, filename)\n",
    "    camera.start_preview(\n",
    "        Preview.NULL\n",
    "    )  # Specify preview type. プレビュータイプを指定します。\n",
    "    camera.start()  # Start the camera. カメラを起動します。\n",
    "    time.sleep(\n",
    "        2\n",
    "    )  # Allow the camera to adjust to lighting conditions. カメラが照明条件に適応するために2秒待ちます。\n",
    "    camera.capture_file(filepath)\n",
    "    print(f\"Image saved to {filepath}\")  # 画像が保存されたことを通知します。\n",
    "    display(Image(filename=filepath))\n",
    "\n",
    "\n",
    "def run_picture_sequence():\n",
    "    \"\"\"\n",
    "    Main function to initialize the camera and capture an image.\n",
    "    カメラを初期化し、画像を撮影するメイン関数。\n",
    "    \"\"\"\n",
    "    camera = initialize_camera()\n",
    "    try:\n",
    "        capture_image(camera, \"pictures\", \"image.jpg\")\n",
    "    finally:\n",
    "        camera.stop()  # Ensure the camera is properly closed. カメラが適切に閉じられるようにします。\n",
    "        camera.stop_preview()  # Stop the preview. プレビューを停止します。\n",
    "        camera.close()\n",
    "\n",
    "\n",
    "run_picture_sequence()\n",
    "\n"
   ]
  },
  {
   "cell_type": "markdown",
   "id": "bb7d0d95-d6f9-40a6-9905-0b8f2904528c",
   "metadata": {},
   "source": [
    "### Now, when we confirmed correct image capture by camera module, let's start working with Pillow library. / さて、カメラ・モジュールによる正しい画像の取り込みが確認できたところで、Pillow ライブラリーを操作してみよう。"
   ]
  },
  {
   "cell_type": "code",
   "execution_count": null,
   "id": "afdc8e6b-a11e-48d7-90e8-a7b0969971c4",
   "metadata": {},
   "outputs": [],
   "source": [
    "from PIL import Image as PilImage # Import image module from PIL library / PILライブラリから画像モジュールをインポート"
   ]
  },
  {
   "cell_type": "markdown",
   "id": "46fce017-5f43-4c3f-ae5c-fdd1fae56bd2",
   "metadata": {},
   "source": [
    "Let's try to save image and open saved image / 画像を保存し、保存した画像を開いてみよう。"
   ]
  },
  {
   "cell_type": "code",
   "execution_count": null,
   "id": "3c8eaddf-bf66-4be9-98c8-06c1afbde1e8",
   "metadata": {},
   "outputs": [],
   "source": [
    "def initial_image_test():\n",
    "    initial_image_path = \"pictures/image.jpg\"\n",
    "    processed_image_path = \"pictures/example.jpg\"\n",
    "    \n",
    "    tested_image = PilImage.open(initial_image_path)\n",
    "    \n",
    "    tested_image.save(processed_image_path)\n",
    "\n",
    "    return tested_image\n",
    "\n",
    "processed_image_path = \"pictures/example.jpg\"\n",
    "image = initial_image_test()\n"
   ]
  },
  {
   "cell_type": "markdown",
   "id": "a0d41444-da6c-45ea-ac38-5c827539c50b",
   "metadata": {},
   "source": [
    "After saving image it would be useful to display it on the screen to check the output / 画像を保存した後、それをスクリーンに表示して出力をチェックするのが便利だろう。"
   ]
  },
  {
   "cell_type": "code",
   "execution_count": null,
   "id": "a64a4457-cb0d-4a6b-990a-0d77af699251",
   "metadata": {},
   "outputs": [],
   "source": [
    "display(Image(filename=processed_image_path))"
   ]
  },
  {
   "cell_type": "markdown",
   "id": "c96460a5-7721-4837-a2bf-541da35f8213",
   "metadata": {},
   "source": [
    "We will use this process same many times, so let's write a function to save and display output image / この処理は何度も同じように使うので、出力画像を保存して表示する関数を書いてみよう。"
   ]
  },
  {
   "cell_type": "code",
   "execution_count": null,
   "id": "7030b5b5-a041-47c3-b264-4f990173fed0",
   "metadata": {},
   "outputs": [],
   "source": [
    "def save_and_show_output(image):\n",
    "    # Convert the image to RGB mode\n",
    "    rgb_image = image.convert('RGB')\n",
    "    # Save the image\n",
    "    rgb_image.save(processed_image_path)\n",
    "    # Display the image\n",
    "    display(Image(filename=processed_image_path))"
   ]
  },
  {
   "cell_type": "code",
   "execution_count": null,
   "id": "a23b523f-478e-46be-8021-aaf80fca94b9",
   "metadata": {},
   "outputs": [],
   "source": [
    "save_and_show_output(image)"
   ]
  },
  {
   "cell_type": "markdown",
   "id": "eed4bbb7-45a6-44d7-9d07-7233bd9d7a15",
   "metadata": {},
   "source": [
    "Now let's try to change the image size. Ptyhon PIL library has a special function for changing the image size. / では、画像サイズを変更してみましょう。Ptyhon PILライブラリには、画像サイズを変更するための特別な機能があります。"
   ]
  },
  {
   "cell_type": "code",
   "execution_count": null,
   "id": "0538dcab-c9ba-4725-8315-2ad303edad2c",
   "metadata": {},
   "outputs": [],
   "source": [
    "def change_size(image, width, height):\n",
    "    size = (width, height)  # New size\n",
    "    resized_image = image.resize(size)\n",
    "    save_and_show_output(resized_image)\n",
    "\n",
    "change_size(image, 120,120)"
   ]
  },
  {
   "cell_type": "markdown",
   "id": "1d03aff3-0cdb-403a-8e1b-07de8e9efb20",
   "metadata": {},
   "source": [
    "It is also possible to rotate image / 画像を回転させることもできます"
   ]
  },
  {
   "cell_type": "code",
   "execution_count": null,
   "id": "05629a0d-edf6-4cde-8970-892c04cea6aa",
   "metadata": {},
   "outputs": [],
   "source": [
    "def rotate_image(image, angle):\n",
    "    rotation_angle = angle # Angle to rotate\n",
    "    rotated_image = image.rotate(rotation_angle)\n",
    "    save_and_show_output(rotated_image)\n",
    "\n",
    "rotate_image(image, 180)"
   ]
  },
  {
   "cell_type": "markdown",
   "id": "943d6da9-7ab5-4933-bc95-ffe23560cb99",
   "metadata": {},
   "source": [
    "If nescessary, image can also be fliped over x or y axis / 必要であれば、画像をx軸またはy軸で反転させることもできます"
   ]
  },
  {
   "cell_type": "code",
   "execution_count": null,
   "id": "c8da8056-677f-43e1-b1ef-1f0241119df4",
   "metadata": {},
   "outputs": [],
   "source": [
    "def flip_image_right(image):\n",
    "    transpose_method = PilImage.Transpose.FLIP_LEFT_RIGHT\n",
    "    flipped_image = image.transpose(transpose_method)\n",
    "    save_and_show_output(flipped_image)\n",
    "\n",
    "flip_image_right(image)"
   ]
  },
  {
   "cell_type": "markdown",
   "id": "fc6031d0-f4f5-4d92-bfc6-5990e41823a6",
   "metadata": {},
   "source": [
    "Read more about transpose method in official Pillow website or in GeeksForGeeks tutorial / トランスポーズ・メソッドについては、Pillowの公式サイトまたはGeeksForGeeksのチュートリアルを参照してください。 [Pillow](https://pillow.readthedocs.io/en/stable/reference/Image.html) [GeeksForGeeks](https://www.geeksforgeeks.org/python-pil-image-transpose-method/)"
   ]
  },
  {
   "cell_type": "markdown",
   "id": "e4981363-a4bd-42c2-9f91-99c097f63bb8",
   "metadata": {},
   "source": [
    "One more fucntion avaliable in PIL is image cropping. To crop the image it is nescessary to setup the crop area by scefying corner coordinates. / PILで利用できるもう一つの機能は画像の切り抜きです。画像を切り抜くには、コーナー座標を指定して切り抜き領域を設定する必要があります。"
   ]
  },
  {
   "cell_type": "code",
   "execution_count": null,
   "id": "67ef975d-cf0f-448b-8b00-4b781e462538",
   "metadata": {},
   "outputs": [],
   "source": [
    "def crop_image(image, left, upper, right, lower):\n",
    "    crop_area = (left, upper, right, lower)\n",
    "    cropped_image = image.crop(crop_area)\n",
    "    save_and_show_output(cropped_image)\n",
    "\n",
    "crop_image(image, 130, 50, 250, 150)"
   ]
  },
  {
   "cell_type": "markdown",
   "id": "f7e9e8cc-8a70-44b6-9ed2-a560f34bc48f",
   "metadata": {},
   "source": [
    "Reade more about the crop method in official Pillow website or in GeeksForGeeks tutorial / クロップ方法については、ピロー公式サイトまたはGeeksForGeeksのチュートリアルをご参照ください。[Pillow](https://pillow.readthedocs.io/en/stable/reference/Image.html) [GeeksForGeeks](https://www.geeksforgeeks.org/python-crop-image-using-pillow/)"
   ]
  },
  {
   "cell_type": "markdown",
   "id": "21ee71bd-83fc-44c3-9a08-44f85218d0c8",
   "metadata": {},
   "source": [
    "For processing images sometimes it is necessary to change image colors, PIL library includes many libraries that can help user to work with color. For example convert to grayscale. / PILライブラリには、ユーザーが色を扱う際に役立つ多くのライブラリが含まれています。例えば、グレースケールへの変換などです。"
   ]
  },
  {
   "cell_type": "code",
   "execution_count": null,
   "id": "ad85d127-2fa4-45c4-a830-7db3d586d491",
   "metadata": {},
   "outputs": [],
   "source": [
    "def convert_to_grayscale(image):\n",
    "    \n",
    "    # Convert the image to grayscale\n",
    "    grayscale_image = image.convert(\"L\")\n",
    "    \n",
    "    # Save the new image\n",
    "    save_and_show_output(grayscale_image)\n",
    "\n",
    "convert_to_grayscale(image)"
   ]
  },
  {
   "cell_type": "markdown",
   "id": "4f24714f-bc54-427c-b7d3-eef63cd04164",
   "metadata": {},
   "source": [
    "Modifying the brightness of an image can enhance its visibility or create specific visual effects. / 画像の明るさを変更することで、視認性を高めたり、特定の視覚効果を作り出すことができます。"
   ]
  },
  {
   "cell_type": "code",
   "execution_count": null,
   "id": "e1c5551c-c2d3-4dcc-9ef2-6179ef4886dc",
   "metadata": {},
   "outputs": [],
   "source": [
    "from PIL import ImageEnhance  # Import enhance module from PIL library\n",
    "\n",
    "def adjust_brightness(image, factor):\n",
    "    \n",
    "    # Create an enhancer object for brightness\n",
    "    enhancer = ImageEnhance.Brightness(image)\n",
    "    \n",
    "    # Adjust the brightness; factor > 1 increases brightness, factor < 1 decreases it\n",
    "    brightened_image = enhancer.enhance(factor)\n",
    "    \n",
    "    # Save the new image\n",
    "    save_and_show_output(brightened_image)\n",
    "\n",
    "adjust_brightness(image, 3)"
   ]
  },
  {
   "cell_type": "markdown",
   "id": "0424b4b8-0bf3-49ac-b39c-27a50c5dcfd8",
   "metadata": {},
   "source": [
    "Applying a color filter can tint an image with a specific color, creating a unifying hue across the image. / カラーフィルターを適用すると、画像を特定の色で染めることができ、画像全体に統一感のある色合いを作り出すことができます。画像の明るさを変更すると、画像の視認性を高めたり、特定の視覚効果を作り出すことができます。"
   ]
  },
  {
   "cell_type": "code",
   "execution_count": null,
   "id": "79cb7613-1cfd-4b77-af0c-f788dcbb6418",
   "metadata": {},
   "outputs": [],
   "source": [
    "def apply_color_filter(image, color, alpha=0.5):\n",
    "    # Ensure the image is in RGBA mode\n",
    "    if image.mode != 'RGBA':\n",
    "        image = image.convert('RGBA')\n",
    "    \n",
    "    # Create an image filled with the specified color\n",
    "    color_image = PilImage.new('RGBA', image.size, color)\n",
    "    \n",
    "    # Blend the original image with the color image\n",
    "    filtered_image = PilImage.blend(image, color_image, alpha)\n",
    "    \n",
    "    # Save or display the new image\n",
    "    save_and_show_output(filtered_image)\n",
    "\n",
    "color=(255, 0, 255, 128) # Purple color. Transparency parameter - 128.\n",
    "apply_color_filter(image, color)"
   ]
  },
  {
   "cell_type": "markdown",
   "id": "9ce95f07-40f0-4b83-b502-c26a9fd11609",
   "metadata": {},
   "source": [
    "There are many complex functions in PIL library which you can use for working with different image properties, for example change highlight specific color on image / PILライブラリには多くの複雑な関数があり、例えば画像上のハイライトの色を変えるなど、様々な画像プロパティを扱うことができます。"
   ]
  },
  {
   "cell_type": "markdown",
   "id": "bf72c3ca-4ad6-4706-8bb6-6e08698da0d0",
   "metadata": {},
   "source": [
    "Import numpy library for working with pixel arrays / ピクセル配列を扱うためのnumpyライブラリのインポート"
   ]
  },
  {
   "cell_type": "code",
   "execution_count": null,
   "id": "42a6472f-671a-4aaf-9a13-66a0bb3fe485",
   "metadata": {},
   "outputs": [],
   "source": [
    "import numpy as np"
   ]
  },
  {
   "cell_type": "markdown",
   "id": "25f53c4a-3405-4cad-837c-c9b0ab72a88b",
   "metadata": {},
   "source": [
    "Define a range of RGB values that encompass the target color. This approach accounts for slight variations in pixel values."
   ]
  },
  {
   "cell_type": "code",
   "execution_count": null,
   "id": "60b0697e-6516-4abd-8b7d-f30c612ce507",
   "metadata": {},
   "outputs": [],
   "source": [
    "def highlight_yellow_color(image):\n",
    "\n",
    "    # Convert image to correct color format\n",
    "    if image.mode == 'RGB':\n",
    "        image = image.convert('RGBA')\n",
    "    \n",
    "    # Convert image to numpy array\n",
    "    data = np.array(image)\n",
    "    \n",
    "    # Separate the color channels\n",
    "    red, green, blue, alpha = data.T\n",
    "    \n",
    "    # Define the color range for yellow\n",
    "    red_range = (200, 255)\n",
    "    green_range = (200, 255)\n",
    "    blue_range = (0, 100)\n",
    "    \n",
    "    # Create a mask identifying pixels within the yellow range\n",
    "    mask = (\n",
    "        (red >= red_range[0]) & (red <= red_range[1]) &\n",
    "        (green >= green_range[0]) & (green <= green_range[1]) &\n",
    "        (blue >= blue_range[0]) & (blue <= blue_range[1])\n",
    "    )\n",
    "    \n",
    "    # Define the new color (e.g., red)\n",
    "    new_color = (255, 0, 0, 255)\n",
    "    \n",
    "    # Apply the new color to the target pixels\n",
    "    data[..., :][mask.T] = new_color\n",
    "    \n",
    "    # Convert the numpy array back to an image\n",
    "    new_image = PilImage.fromarray(data)\n",
    "    \n",
    "    # Save and display image\n",
    "    save_and_show_output(new_image)\n",
    "\n",
    "\n",
    "highlight_yellow_color(image)"
   ]
  },
  {
   "cell_type": "markdown",
   "id": "6083d468-7c25-4b39-a91e-57cd66ddc29c",
   "metadata": {},
   "source": [
    "You can also use PIL library for merging two images. / PILライブラリを使用して、2つの画像を合成することもできます。"
   ]
  },
  {
   "cell_type": "markdown",
   "id": "19e00a7e-403f-414b-b62d-9bc7a9c5a860",
   "metadata": {},
   "source": [
    "For merging we will use an image that was taken by camera and python logo, which you can find in \"pictures\" folder. / 結合には、「pictures 」フォルダにあるカメラとpythonロゴで撮影した画像を使用します。 `/home/user/image_processing_practice/initial_image_processing/pictures` "
   ]
  },
  {
   "cell_type": "code",
   "execution_count": null,
   "id": "2b47e485-5e25-4fd7-a9f7-edcd85cbe333",
   "metadata": {},
   "outputs": [],
   "source": [
    "def load_python_logo(path):\n",
    "    # Load python logo image\n",
    "    loaded_image = PilImage.open(path)\n",
    "    return loaded_image\n",
    "\n",
    "python_logo = load_python_logo(\"/home/user/image_processing_practice/initial_image_processing/pictures/python_logo.png\")\n",
    "    "
   ]
  },
  {
   "cell_type": "code",
   "execution_count": null,
   "id": "e8f9ab1a-b1da-4a8c-a70c-e24e57b8352b",
   "metadata": {},
   "outputs": [],
   "source": [
    "def merge_two_images(image1, image2):\n",
    "    # Ensure both images are the same size\n",
    "    if image1.size != image2.size:\n",
    "        image2 = image2.resize(image1.size)\n",
    "    \n",
    "    # Ensure both images have the same mode\n",
    "    if image1.mode != image2.mode:\n",
    "        image2 = image2.convert(image1.mode)\n",
    "    \n",
    "    # Define the alpha blending factor (0.0 = only image1, 1.0 = only image2)\n",
    "    alpha = 0.5\n",
    "    \n",
    "    # Blend the images\n",
    "    blended_image = PilImage.blend(image1, image2, alpha)\n",
    "    \n",
    "    # Save or display the blended image\n",
    "    save_and_show_output(blended_image)\n",
    "\n",
    "merge_two_images(image, python_logo)\n",
    "\n",
    "    "
   ]
  },
  {
   "cell_type": "code",
   "execution_count": null,
   "id": "0a069ebb-2f4e-4644-a4cb-ae042d1d193d",
   "metadata": {},
   "outputs": [],
   "source": []
  }
 ],
 "metadata": {
  "kernelspec": {
   "display_name": "Python 3 (ipykernel)",
   "language": "python",
   "name": "python3"
  },
  "language_info": {
   "codemirror_mode": {
    "name": "ipython",
    "version": 3
   },
   "file_extension": ".py",
   "mimetype": "text/x-python",
   "name": "python",
   "nbconvert_exporter": "python",
   "pygments_lexer": "ipython3",
   "version": "3.11.2"
  }
 },
 "nbformat": 4,
 "nbformat_minor": 5
}
